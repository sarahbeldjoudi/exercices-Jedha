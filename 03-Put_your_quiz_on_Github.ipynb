{
 "cells": [
  {
   "cell_type": "markdown",
   "metadata": {},
   "source": [
    "# Build a quiz - Part 3 \n",
    "\n",
    "Let's now push our quiz to Github to practice our new skills !\n",
    "Repeat the steps from the exercise 02-Pushing_a_repo_to_Github to push your notebook with the quizz. Make sure your code is DRY, clean and easily readable. \n",
    "\n",
    "Send the link to your remote repository to your teacher.\n",
    "\n",
    "Congrats, you've completed your first project !"
   ]
  },
  {
   "cell_type": "code",
   "execution_count": null,
   "metadata": {},
   "outputs": [],
   "source": []
  }
 ],
 "metadata": {
  "language_info": {
   "codemirror_mode": {
    "name": "ipython",
    "version": 3
   },
   "file_extension": ".py",
   "mimetype": "text/x-python",
   "name": "python",
   "nbconvert_exporter": "python",
   "pygments_lexer": "ipython3",
   "version": 3
  },
  "orig_nbformat": 2
 },
 "nbformat": 4,
 "nbformat_minor": 2
}